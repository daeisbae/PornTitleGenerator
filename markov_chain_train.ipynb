{
 "cells": [
  {
   "cell_type": "markdown",
   "id": "7a34c584-44ac-4f26-885e-2e0fbc8cf298",
   "metadata": {},
   "source": [
    "# Markov Text Generator Training"
   ]
  },
  {
   "cell_type": "code",
   "execution_count": 1,
   "id": "5f4fbddc-e298-4e75-93e3-e81bec9af07d",
   "metadata": {},
   "outputs": [],
   "source": [
    "import markovify\n",
    "import pandas as pd"
   ]
  },
  {
   "cell_type": "markdown",
   "id": "3abde45b-8eb1-419d-b9ac-461e47581a0a",
   "metadata": {},
   "source": [
    "## Read Dataset"
   ]
  },
  {
   "cell_type": "code",
   "execution_count": 2,
   "id": "f40b35ac-f31d-4497-ab68-305891cb58da",
   "metadata": {},
   "outputs": [],
   "source": [
    "columns = ['embed','thumbnail','thumbnail2','title','tags','categories','pornstars','duration','views','likes','dislikes','thumbnail3','thumbnail4']"
   ]
  },
  {
   "cell_type": "code",
   "execution_count": 3,
   "id": "f1894a45-18d7-4f77-b266-ea0546f235ae",
   "metadata": {},
   "outputs": [],
   "source": [
    "df = pd.read_csv('pornhub.com-db.csv', delimiter='|', on_bad_lines='skip', header=None)"
   ]
  },
  {
   "cell_type": "code",
   "execution_count": 4,
   "id": "da7eb57a-1eb8-43e1-a86c-7578cf9237f0",
   "metadata": {},
   "outputs": [],
   "source": [
    "df.columns = columns"
   ]
  },
  {
   "cell_type": "code",
   "execution_count": 5,
   "id": "64de1335-31ee-4c66-9d37-89965aa319fc",
   "metadata": {},
   "outputs": [
    {
     "data": {
      "text/html": [
       "<div>\n",
       "<style scoped>\n",
       "    .dataframe tbody tr th:only-of-type {\n",
       "        vertical-align: middle;\n",
       "    }\n",
       "\n",
       "    .dataframe tbody tr th {\n",
       "        vertical-align: top;\n",
       "    }\n",
       "\n",
       "    .dataframe thead th {\n",
       "        text-align: right;\n",
       "    }\n",
       "</style>\n",
       "<table border=\"1\" class=\"dataframe\">\n",
       "  <thead>\n",
       "    <tr style=\"text-align: right;\">\n",
       "      <th></th>\n",
       "      <th>embed</th>\n",
       "      <th>thumbnail</th>\n",
       "      <th>thumbnail2</th>\n",
       "      <th>title</th>\n",
       "      <th>tags</th>\n",
       "      <th>categories</th>\n",
       "      <th>pornstars</th>\n",
       "      <th>duration</th>\n",
       "      <th>views</th>\n",
       "      <th>likes</th>\n",
       "      <th>dislikes</th>\n",
       "      <th>thumbnail3</th>\n",
       "      <th>thumbnail4</th>\n",
       "    </tr>\n",
       "  </thead>\n",
       "  <tbody>\n",
       "    <tr>\n",
       "      <th>0</th>\n",
       "      <td>&lt;iframe src=\"https://www.pornhub.com/embed/f4c...</td>\n",
       "      <td>https://di.phncdn.com/videos/200708/12/347/ori...</td>\n",
       "      <td>https://di.phncdn.com/videos/200708/12/347/ori...</td>\n",
       "      <td>Heather brooke swallo from condom</td>\n",
       "      <td>ideepthroat.com;pornstar;swallow;blowjob;fetis...</td>\n",
       "      <td>Blowjob;Pornstar;Verified Models</td>\n",
       "      <td>Heather Harmon</td>\n",
       "      <td>99</td>\n",
       "      <td>2644329</td>\n",
       "      <td>3138.0</td>\n",
       "      <td>478.0</td>\n",
       "      <td>https://di.phncdn.com/videos/200708/12/347/ori...</td>\n",
       "      <td>https://di.phncdn.com/videos/200708/12/347/ori...</td>\n",
       "    </tr>\n",
       "    <tr>\n",
       "      <th>1</th>\n",
       "      <td>&lt;iframe src=\"https://www.pornhub.com/embed/3ee...</td>\n",
       "      <td>https://di.phncdn.com/videos/200705/06/417/ori...</td>\n",
       "      <td>https://di.phncdn.com/videos/200705/06/417/ori...</td>\n",
       "      <td>HEATHER IN CHRISTMAS</td>\n",
       "      <td>ideepthroat.com;fetish;blowjob;blonde;swallow;...</td>\n",
       "      <td>Blowjob;Fetish;Pornstar;Verified Models</td>\n",
       "      <td>Heather Harmon</td>\n",
       "      <td>126</td>\n",
       "      <td>993507</td>\n",
       "      <td>1784.0</td>\n",
       "      <td>277.0</td>\n",
       "      <td>https://di.phncdn.com/videos/200705/06/417/ori...</td>\n",
       "      <td>https://di.phncdn.com/videos/200705/06/417/ori...</td>\n",
       "    </tr>\n",
       "    <tr>\n",
       "      <th>2</th>\n",
       "      <td>&lt;iframe src=\"https://www.pornhub.com/embed/e5e...</td>\n",
       "      <td>https://di.phncdn.com/videos/200704/18/518/ori...</td>\n",
       "      <td>https://di.phncdn.com/videos/200704/18/518/ori...</td>\n",
       "      <td>Blowjob Instruction</td>\n",
       "      <td>ideepthroat.com;blowjob;pornstar;blonde;big-di...</td>\n",
       "      <td>Orgy;Blonde;Blowjob;Pornstar;Threesome;Verifie...</td>\n",
       "      <td>Heather Harmon</td>\n",
       "      <td>86</td>\n",
       "      <td>841093</td>\n",
       "      <td>729.0</td>\n",
       "      <td>129.0</td>\n",
       "      <td>https://di.phncdn.com/videos/200704/18/518/ori...</td>\n",
       "      <td>https://di.phncdn.com/videos/200704/18/518/ori...</td>\n",
       "    </tr>\n",
       "    <tr>\n",
       "      <th>3</th>\n",
       "      <td>&lt;iframe src=\"https://www.pornhub.com/embed/f8e...</td>\n",
       "      <td>https://di.phncdn.com/videos/200706/05/592/ori...</td>\n",
       "      <td>https://di.phncdn.com/videos/200706/05/592/ori...</td>\n",
       "      <td>heather brooke-talks dirty</td>\n",
       "      <td>ideepthroat.com;blowjob;blonde;big-dick;big-ti...</td>\n",
       "      <td>Blowjob;Pornstar;Verified Models</td>\n",
       "      <td>Heather Harmon</td>\n",
       "      <td>110</td>\n",
       "      <td>3463334</td>\n",
       "      <td>3611.0</td>\n",
       "      <td>463.0</td>\n",
       "      <td>https://di.phncdn.com/videos/200706/05/592/ori...</td>\n",
       "      <td>https://di.phncdn.com/videos/200706/05/592/ori...</td>\n",
       "    </tr>\n",
       "    <tr>\n",
       "      <th>4</th>\n",
       "      <td>&lt;iframe src=\"https://www.pornhub.com/embed/493...</td>\n",
       "      <td>https://di.phncdn.com/videos/201010/27/6401/or...</td>\n",
       "      <td>https://di.phncdn.com/videos/201010/27/6401/or...</td>\n",
       "      <td>Hot blonde doing the Laundry</td>\n",
       "      <td>hot;blonde;laundry;anal;fuck;blowjob;cumshot;i...</td>\n",
       "      <td>Blonde;Pornstar;Anal;Verified Models</td>\n",
       "      <td>Heather Harmon</td>\n",
       "      <td>153</td>\n",
       "      <td>157912</td>\n",
       "      <td>146.0</td>\n",
       "      <td>33.0</td>\n",
       "      <td>https://di.phncdn.com/videos/201010/27/6401/or...</td>\n",
       "      <td>https://di.phncdn.com/videos/201010/27/6401/or...</td>\n",
       "    </tr>\n",
       "  </tbody>\n",
       "</table>\n",
       "</div>"
      ],
      "text/plain": [
       "                                               embed  \\\n",
       "0  <iframe src=\"https://www.pornhub.com/embed/f4c...   \n",
       "1  <iframe src=\"https://www.pornhub.com/embed/3ee...   \n",
       "2  <iframe src=\"https://www.pornhub.com/embed/e5e...   \n",
       "3  <iframe src=\"https://www.pornhub.com/embed/f8e...   \n",
       "4  <iframe src=\"https://www.pornhub.com/embed/493...   \n",
       "\n",
       "                                           thumbnail  \\\n",
       "0  https://di.phncdn.com/videos/200708/12/347/ori...   \n",
       "1  https://di.phncdn.com/videos/200705/06/417/ori...   \n",
       "2  https://di.phncdn.com/videos/200704/18/518/ori...   \n",
       "3  https://di.phncdn.com/videos/200706/05/592/ori...   \n",
       "4  https://di.phncdn.com/videos/201010/27/6401/or...   \n",
       "\n",
       "                                          thumbnail2  \\\n",
       "0  https://di.phncdn.com/videos/200708/12/347/ori...   \n",
       "1  https://di.phncdn.com/videos/200705/06/417/ori...   \n",
       "2  https://di.phncdn.com/videos/200704/18/518/ori...   \n",
       "3  https://di.phncdn.com/videos/200706/05/592/ori...   \n",
       "4  https://di.phncdn.com/videos/201010/27/6401/or...   \n",
       "\n",
       "                               title  \\\n",
       "0  Heather brooke swallo from condom   \n",
       "1               HEATHER IN CHRISTMAS   \n",
       "2                Blowjob Instruction   \n",
       "3         heather brooke-talks dirty   \n",
       "4       Hot blonde doing the Laundry   \n",
       "\n",
       "                                                tags  \\\n",
       "0  ideepthroat.com;pornstar;swallow;blowjob;fetis...   \n",
       "1  ideepthroat.com;fetish;blowjob;blonde;swallow;...   \n",
       "2  ideepthroat.com;blowjob;pornstar;blonde;big-di...   \n",
       "3  ideepthroat.com;blowjob;blonde;big-dick;big-ti...   \n",
       "4  hot;blonde;laundry;anal;fuck;blowjob;cumshot;i...   \n",
       "\n",
       "                                          categories       pornstars  \\\n",
       "0                   Blowjob;Pornstar;Verified Models  Heather Harmon   \n",
       "1            Blowjob;Fetish;Pornstar;Verified Models  Heather Harmon   \n",
       "2  Orgy;Blonde;Blowjob;Pornstar;Threesome;Verifie...  Heather Harmon   \n",
       "3                   Blowjob;Pornstar;Verified Models  Heather Harmon   \n",
       "4               Blonde;Pornstar;Anal;Verified Models  Heather Harmon   \n",
       "\n",
       "   duration    views   likes  dislikes  \\\n",
       "0        99  2644329  3138.0     478.0   \n",
       "1       126   993507  1784.0     277.0   \n",
       "2        86   841093   729.0     129.0   \n",
       "3       110  3463334  3611.0     463.0   \n",
       "4       153   157912   146.0      33.0   \n",
       "\n",
       "                                          thumbnail3  \\\n",
       "0  https://di.phncdn.com/videos/200708/12/347/ori...   \n",
       "1  https://di.phncdn.com/videos/200705/06/417/ori...   \n",
       "2  https://di.phncdn.com/videos/200704/18/518/ori...   \n",
       "3  https://di.phncdn.com/videos/200706/05/592/ori...   \n",
       "4  https://di.phncdn.com/videos/201010/27/6401/or...   \n",
       "\n",
       "                                          thumbnail4  \n",
       "0  https://di.phncdn.com/videos/200708/12/347/ori...  \n",
       "1  https://di.phncdn.com/videos/200705/06/417/ori...  \n",
       "2  https://di.phncdn.com/videos/200704/18/518/ori...  \n",
       "3  https://di.phncdn.com/videos/200706/05/592/ori...  \n",
       "4  https://di.phncdn.com/videos/201010/27/6401/or...  "
      ]
     },
     "execution_count": 5,
     "metadata": {},
     "output_type": "execute_result"
    }
   ],
   "source": [
    "df.head()"
   ]
  },
  {
   "cell_type": "markdown",
   "id": "0dea9d37-a6ec-4fcd-9173-f283541d8a52",
   "metadata": {},
   "source": [
    "## Convert Title Series To List"
   ]
  },
  {
   "cell_type": "code",
   "execution_count": 6,
   "id": "e37a0eb6-c82d-4e3e-8529-b3882c3a48c6",
   "metadata": {},
   "outputs": [],
   "source": [
    "titles = df['title'].to_list()"
   ]
  },
  {
   "cell_type": "code",
   "execution_count": 7,
   "id": "7d71f873-2a1e-47de-8c5d-93925a9b6c78",
   "metadata": {},
   "outputs": [
    {
     "data": {
      "text/plain": [
       "'There are 3785350 in the titles List'"
      ]
     },
     "execution_count": 7,
     "metadata": {},
     "output_type": "execute_result"
    }
   ],
   "source": [
    "f\"There are {len(titles)} in the titles List\""
   ]
  },
  {
   "cell_type": "markdown",
   "id": "2faea9c2-3387-4e3a-8443-de7dbd30a3ce",
   "metadata": {},
   "source": [
    "## Filter Broken/Invalid Text"
   ]
  },
  {
   "cell_type": "code",
   "execution_count": 8,
   "id": "e7b8dcaf-0526-415b-93f9-7b25e642be0a",
   "metadata": {},
   "outputs": [],
   "source": [
    "filtered_titles = list(filter(lambda title: isinstance(title, str), titles))"
   ]
  },
  {
   "cell_type": "code",
   "execution_count": 9,
   "id": "b6d48a0c-24fd-44bd-932a-085ddb257aeb",
   "metadata": {},
   "outputs": [
    {
     "data": {
      "text/plain": [
       "'There are 1 number of titles filtered'"
      ]
     },
     "execution_count": 9,
     "metadata": {},
     "output_type": "execute_result"
    }
   ],
   "source": [
    "f\"There are {len(titles) - len(filtered_titles)} number of titles filtered\""
   ]
  },
  {
   "cell_type": "markdown",
   "id": "a54eece2-6f01-4e85-974a-c08a36cf7737",
   "metadata": {},
   "source": [
    "## Generate Markov Text Model From Porn Titles"
   ]
  },
  {
   "cell_type": "code",
   "execution_count": null,
   "id": "502d03af-c0c4-4eaf-a764-977e74d3e5cd",
   "metadata": {},
   "outputs": [],
   "source": [
    "model = markovify.Text(filtered_titles)"
   ]
  },
  {
   "cell_type": "code",
   "execution_count": null,
   "id": "b4f84cef-ff19-400c-bddf-997ab8a25d45",
   "metadata": {},
   "outputs": [],
   "source": [
    "model.make_sentence()"
   ]
  },
  {
   "cell_type": "markdown",
   "id": "5db56050-9d2c-4e00-96e8-191222a7a06e",
   "metadata": {},
   "source": [
    "## Export Model as porn_titles.json"
   ]
  },
  {
   "cell_type": "code",
   "execution_count": null,
   "id": "451f00d2-03a2-49bc-9b5a-0b194c53c16a",
   "metadata": {},
   "outputs": [],
   "source": [
    "with open('porn_titles.json', 'w') as f:\n",
    "    f.write(model.to_json())"
   ]
  }
 ],
 "metadata": {
  "environment": {
   "kernel": "python3",
   "name": "common-cpu.m93",
   "type": "gcloud",
   "uri": "gcr.io/deeplearning-platform-release/base-cpu:m93"
  },
  "kernelspec": {
   "display_name": "Python 3",
   "language": "python",
   "name": "python3"
  },
  "language_info": {
   "codemirror_mode": {
    "name": "ipython",
    "version": 3
   },
   "file_extension": ".py",
   "mimetype": "text/x-python",
   "name": "python",
   "nbconvert_exporter": "python",
   "pygments_lexer": "ipython3",
   "version": "3.7.12"
  }
 },
 "nbformat": 4,
 "nbformat_minor": 5
}
